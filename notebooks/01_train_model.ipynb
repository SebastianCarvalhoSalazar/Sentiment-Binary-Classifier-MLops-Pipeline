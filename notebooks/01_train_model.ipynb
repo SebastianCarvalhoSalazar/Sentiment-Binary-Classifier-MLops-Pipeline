{
 "cells": [
  {
   "cell_type": "markdown",
   "metadata": {},
   "source": [
    "<div align=\"center\">\n",
    "\n",
    "# 📝 Sentiment Classifier MLOps Pipeline\n",
    "\n",
    "<img src=\"https://img.shields.io/badge/Python-3.8+-blue.svg\" alt=\"Python\">\n",
    "<img src=\"https://img.shields.io/badge/scikit--learn-0.24+-orange.svg\" alt=\"Scikit-learn\">\n",
    "<img src=\"https://img.shields.io/badge/Status-Draft-orange.svg\" alt=\"Status\">\n",
    "\n",
    "---\n",
    "\n",
    "### 📊 Machine Learning Pipeline for Sentiment Analysis\n",
    "\n",
    "---\n",
    "\n",
    "## **Author:** Sebastian Carvalho Salazar — Machine Learning Engineer\n",
    "### **Date:** September 2025  \n",
    "### **Version:** 1.0.0\n",
    "\n",
    "---\n",
    "\n",
    "</div>"
   ]
  },
  {
   "cell_type": "markdown",
   "metadata": {},
   "source": [
    "# Experiments\n",
    "---"
   ]
  },
  {
   "cell_type": "code",
   "execution_count": 9,
   "metadata": {},
   "outputs": [],
   "source": [
    "import numpy as np\n",
    "import pandas as pd\n",
    "import matplotlib.pyplot as plt\n",
    "import seaborn as sns"
   ]
  },
  {
   "cell_type": "code",
   "execution_count": 7,
   "metadata": {},
   "outputs": [
    {
     "data": {
      "application/vnd.microsoft.datawrangler.viewer.v0+json": {
       "columns": [
        {
         "name": "index",
         "rawType": "int64",
         "type": "integer"
        },
        {
         "name": "review",
         "rawType": "object",
         "type": "string"
        },
        {
         "name": "sentiment",
         "rawType": "object",
         "type": "string"
        }
       ],
       "ref": "d28bcbc1-c445-49ba-94df-d499e91550f5",
       "rows": [
        [
         "25653",
         "This is an action Western. James Steart leads an all star cast in the scenic Northwest, which is filmed in great splendor. The scenery and costumes are great. There is action and adventure. Stewart plays a wealthy cattleman who runs afoul of a crooked government in the old Nothwest.<br /><br />The main drawback is the stereotypical cynic that Hollywood has always made into a hero. Even when this movie was made, the cynic was the stereotypical hero, and the one Stewart portrays really has few saving graces. He is kind to his two partners, and that does give him an extra dimension of credibility and likability.<br /><br />However, he is so piggish to everyone else, it is hard to really care for him, or to accept him. He is much like the one dimensional spaghetti Western characters (cut not that bad).<br /><br />Still, the minor characters are quite enjoyable. Walter Brennan, Royal Dano, Harry Morgan, and others make this worth watching.",
         "negative"
        ],
        [
         "26075",
         "What a ridiculous waste of time and money!!!! This movie was the biggest loser of the year. All the hype was a warning. I am disappointed for Julia Roberts, by far she is the most talented cast member. I think her ability to truly act carried the film. The buddy buddy boys club was a little too phony, and to add insult to injury why bother to cast Catherine Zeta Jones? She only has the ability to ruin a film. She lacks the ability to have on screen chemistry with anyone, not to mention she lacks the ability to act. She lacks chemistry with the other characters: kind of reminiscent of \"America's Sweetheart's\". She made \"The Terminal\" terminal. This movie is headed nowhere, what a shame, please please don't tell me \"13\" is on the way!",
         "negative"
        ],
        [
         "34910",
         "This is the worst movie I have ever seen. I was going to get up and leave at Tape 4 but I stuck it out. I now consider myself a Masochist! Afghanistan? Come on guys! Who's the idiot who forgot to hide the Sanskrit billboards? I thought the lead actor(George Calil) was particularly inept. Apart from the bad acting and over zealous camera shake, I thought using the events of 9/11 as a reason to make \"Larson the Lunatic Implodes, all over a screen near you\" disgraceful and irreverent to the victims of 9/11. Using a phone call from Larson's wife, Sarah, supposedly from one of the terrorist held planes on that day, was appalling. The camera shake didn't make me feel sick, that cold hearted stunt did.",
         "negative"
        ],
        [
         "3018",
         "Well, maybe not immediately before the Rodney King riots, but even a few months before was timely enough. My parents said that they saw it and the next thing you know, the police got acquitted and LA got burned to the ground. It just goes to show the state of race relations in America. The plot has white Mack (Kevin Kline) and African-American Simon (Danny Glover) becoming friends after Simon saves Mack's life in the black ghetto. Meanwhile, movie producer Davis (Steve Martin in a serious role) thinks that gratuitous violence is really cool...until he gets shot. There's also some existentialism in the movie: Mack and his family come to realize that they aren't living as they really want.<br /><br />It seems that \"Crash\" has somewhat renewed people's interest in race relations, but this one came out much earlier. Maybe we'll never be able to have stable race relations in this country. But either way, \"Grand Canyon\" is a great movie. It affirms Kevin Kline as my favorite actor. Also starring Mary McDonnell, Mary-Louise Parker and Alfre Woodard.",
         "positive"
        ],
        [
         "15882",
         "Had I been familiar with the stage production of Guys and Dolls before seeing the movie, I might not be as fond of it as I am. Although in all fairness, I would probably still like the film production better because of my general adoration of both Brando (for his acting) and Sinatra (for his voice, although he is quite the actor as well, see The Manchurian Candidate or From Here to Eternity.)<br /><br />As for some of the other reviewers' statements about the songs, I have the Broadway soundtrack and though Isabel Bingley's voice outshines that of Jean Simmons, it is not more pleasant. I find it to have a rather shrill quality. Jean Simmons' voice is much more realistic, though admittedly, that is not always a huge concern in musicals. Also the only time I particularly noticed Marlon Brando's particularly weak vocal register was during his rendition of \"Luck Be A Lady\" and only there because I was previously familiar with Sinatra's version. I also find Vivian Blaine's voice to be much more pleasing in the movie than it is on Broadway. And Sinatra's voice alone would be able to redeem the failings of all the others, if they indeed were in need of redemption. (They weren't) It is infinitely better than Sam Levene's, particularly in my favorite song, 'Sue Me'. <br /><br />Also, the complaint that lots of songs were omitted from the movie for inferior songs, I beg to differ. 'A Bushel and a Peck' is hardly a gem and the song that replaced it, 'Pet Me Poppa\" and its accompanying performance is more Hot Box material. I personally do not care for 'Marry the Man Today' at all and rejoice that it was not included in the movie. I adore 'I've Never Been In Love Before', and though it was not sung in the movie, the instrumental version can be heard when Nathan is in Adelaide's dressing room. The song 'A Woman In Love'expresses the same sentiment equally well and probably in a range that both of the stars could more capably reach. And the movie wouldn't be the same without the song 'Adelaide', not included on Broadway. In fact, if the movie soundtrack were available for sale, I'd recommend purchasing it instead of the Broadway. <br /><br />Though I have not seen the original production, I cannot imagine that the acting would be superior to that of the movie's lead actors. <br /><br />The important fact is that the story is as charming as ever and the acting and songs do not make it any less so.",
         "positive"
        ]
       ],
       "shape": {
        "columns": 2,
        "rows": 5
       }
      },
      "text/html": [
       "<div>\n",
       "<style scoped>\n",
       "    .dataframe tbody tr th:only-of-type {\n",
       "        vertical-align: middle;\n",
       "    }\n",
       "\n",
       "    .dataframe tbody tr th {\n",
       "        vertical-align: top;\n",
       "    }\n",
       "\n",
       "    .dataframe thead th {\n",
       "        text-align: right;\n",
       "    }\n",
       "</style>\n",
       "<table border=\"1\" class=\"dataframe\">\n",
       "  <thead>\n",
       "    <tr style=\"text-align: right;\">\n",
       "      <th></th>\n",
       "      <th>review</th>\n",
       "      <th>sentiment</th>\n",
       "    </tr>\n",
       "  </thead>\n",
       "  <tbody>\n",
       "    <tr>\n",
       "      <th>25653</th>\n",
       "      <td>This is an action Western. James Steart leads ...</td>\n",
       "      <td>negative</td>\n",
       "    </tr>\n",
       "    <tr>\n",
       "      <th>26075</th>\n",
       "      <td>What a ridiculous waste of time and money!!!! ...</td>\n",
       "      <td>negative</td>\n",
       "    </tr>\n",
       "    <tr>\n",
       "      <th>34910</th>\n",
       "      <td>This is the worst movie I have ever seen. I wa...</td>\n",
       "      <td>negative</td>\n",
       "    </tr>\n",
       "    <tr>\n",
       "      <th>3018</th>\n",
       "      <td>Well, maybe not immediately before the Rodney ...</td>\n",
       "      <td>positive</td>\n",
       "    </tr>\n",
       "    <tr>\n",
       "      <th>15882</th>\n",
       "      <td>Had I been familiar with the stage production ...</td>\n",
       "      <td>positive</td>\n",
       "    </tr>\n",
       "  </tbody>\n",
       "</table>\n",
       "</div>"
      ],
      "text/plain": [
       "                                                  review sentiment\n",
       "25653  This is an action Western. James Steart leads ...  negative\n",
       "26075  What a ridiculous waste of time and money!!!! ...  negative\n",
       "34910  This is the worst movie I have ever seen. I wa...  negative\n",
       "3018   Well, maybe not immediately before the Rodney ...  positive\n",
       "15882  Had I been familiar with the stage production ...  positive"
      ]
     },
     "execution_count": 7,
     "metadata": {},
     "output_type": "execute_result"
    }
   ],
   "source": [
    "dataset_path = \"../data/IMDB Dataset.csv\"\n",
    "df = pd.read_csv(dataset_path)\n",
    "df.sample(5)"
   ]
  },
  {
   "cell_type": "code",
   "execution_count": 13,
   "metadata": {},
   "outputs": [
    {
     "data": {
      "application/vnd.microsoft.datawrangler.viewer.v0+json": {
       "columns": [
        {
         "name": "index",
         "rawType": "object",
         "type": "string"
        },
        {
         "name": "review",
         "rawType": "object",
         "type": "unknown"
        },
        {
         "name": "sentiment",
         "rawType": "object",
         "type": "unknown"
        }
       ],
       "ref": "64e01ffe-1412-4a8e-a30d-d98a0602870e",
       "rows": [
        [
         "count",
         "50000",
         "50000"
        ],
        [
         "unique",
         "49582",
         "2"
        ],
        [
         "top",
         "Loved today's show!!! It was a variety and not solely cooking (which would have been great too). Very stimulating and captivating, always keeping the viewer peeking around the corner to see what was coming up next. She is as down to earth and as personable as you get, like one of us which made the show all the more enjoyable. Special guests, who are friends as well made for a nice surprise too. Loved the 'first' theme and that the audience was invited to play along too. I must admit I was shocked to see her come in under her time limits on a few things, but she did it and by golly I'll be writing those recipes down. Saving time in the kitchen means more time with family. Those who haven't tuned in yet, find out what channel and the time, I assure you that you won't be disappointed.",
         "positive"
        ],
        [
         "freq",
         "5",
         "25000"
        ]
       ],
       "shape": {
        "columns": 2,
        "rows": 4
       }
      },
      "text/html": [
       "<div>\n",
       "<style scoped>\n",
       "    .dataframe tbody tr th:only-of-type {\n",
       "        vertical-align: middle;\n",
       "    }\n",
       "\n",
       "    .dataframe tbody tr th {\n",
       "        vertical-align: top;\n",
       "    }\n",
       "\n",
       "    .dataframe thead th {\n",
       "        text-align: right;\n",
       "    }\n",
       "</style>\n",
       "<table border=\"1\" class=\"dataframe\">\n",
       "  <thead>\n",
       "    <tr style=\"text-align: right;\">\n",
       "      <th></th>\n",
       "      <th>review</th>\n",
       "      <th>sentiment</th>\n",
       "    </tr>\n",
       "  </thead>\n",
       "  <tbody>\n",
       "    <tr>\n",
       "      <th>count</th>\n",
       "      <td>50000</td>\n",
       "      <td>50000</td>\n",
       "    </tr>\n",
       "    <tr>\n",
       "      <th>unique</th>\n",
       "      <td>49582</td>\n",
       "      <td>2</td>\n",
       "    </tr>\n",
       "    <tr>\n",
       "      <th>top</th>\n",
       "      <td>Loved today's show!!! It was a variety and not...</td>\n",
       "      <td>positive</td>\n",
       "    </tr>\n",
       "    <tr>\n",
       "      <th>freq</th>\n",
       "      <td>5</td>\n",
       "      <td>25000</td>\n",
       "    </tr>\n",
       "  </tbody>\n",
       "</table>\n",
       "</div>"
      ],
      "text/plain": [
       "                                                   review sentiment\n",
       "count                                               50000     50000\n",
       "unique                                              49582         2\n",
       "top     Loved today's show!!! It was a variety and not...  positive\n",
       "freq                                                    5     25000"
      ]
     },
     "execution_count": 13,
     "metadata": {},
     "output_type": "execute_result"
    }
   ],
   "source": [
    "df.describe()"
   ]
  },
  {
   "cell_type": "code",
   "execution_count": 15,
   "metadata": {},
   "outputs": [
    {
     "data": {
      "application/vnd.microsoft.datawrangler.viewer.v0+json": {
       "columns": [
        {
         "name": "index",
         "rawType": "object",
         "type": "string"
        },
        {
         "name": "0",
         "rawType": "object",
         "type": "unknown"
        }
       ],
       "ref": "139c412a-503c-4d92-a4b5-28d4709f5b58",
       "rows": [
        [
         "review",
         "object"
        ],
        [
         "sentiment",
         "object"
        ]
       ],
       "shape": {
        "columns": 1,
        "rows": 2
       }
      },
      "text/plain": [
       "review       object\n",
       "sentiment    object\n",
       "dtype: object"
      ]
     },
     "execution_count": 15,
     "metadata": {},
     "output_type": "execute_result"
    }
   ],
   "source": [
    "df.dtypes"
   ]
  },
  {
   "cell_type": "code",
   "execution_count": null,
   "metadata": {},
   "outputs": [
    {
     "data": {
      "image/png": "[encoded data removed]",
      "text/plain": [
       "<Figure size 800x500 with 1 Axes>"
      ]
     },
     "metadata": {},
     "output_type": "display_data"
    }
   ],
   "source": [
    "plt.figure(figsize=(8,5))\n",
    "\n",
    "# Countplot\n",
    "sns.countplot(\n",
    "    data=df,\n",
    "    x='sentiment',\n",
    "    hue='sentiment',\n",
    "    palette='viridis',\n",
    "    dodge=False,\n",
    "    legend=False\n",
    ")\n",
    "\n",
    "plt.title(\"Conteo de Clases en la Columna 'sentiment'\")\n",
    "plt.xlabel(\"Sentiment\")\n",
    "plt.ylabel(\"Cantidad de Reviews\")\n",
    "plt.show()"
   ]
  },
  {
   "cell_type": "markdown",
   "metadata": {},
   "source": [
    "# END\n",
    "---"
   ]
  }
 ],
 "metadata": {
  "kernelspec": {
   "display_name": "samay_dev",
   "language": "python",
   "name": "python3"
  },
  "language_info": {
   "codemirror_mode": {
    "name": "ipython",
    "version": 3
   },
   "file_extension": ".py",
   "mimetype": "text/x-python",
   "name": "python",
   "nbconvert_exporter": "python",
   "pygments_lexer": "ipython3",
   "version": "3.12.4"
  }
 },
 "nbformat": 4,
 "nbformat_minor": 2
}
